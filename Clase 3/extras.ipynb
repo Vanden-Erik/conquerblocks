{
 "cells": [
  {
   "cell_type": "markdown",
   "metadata": {},
   "source": [
    "1. Escribe un programa en Python para encontrar los elementos duplicados de una lista,\n",
    "añadirlos a una nueva lista y borrarlos de la lista. Después imprime una lista con tan solo los\n",
    "elementos únicos."
   ]
  },
  {
   "cell_type": "code",
   "execution_count": 16,
   "metadata": {},
   "outputs": [
    {
     "name": "stdout",
     "output_type": "stream",
     "text": [
      "[1, 2, 4, 5, 6, 8, 9, 10]\n"
     ]
    }
   ],
   "source": [
    "initial_list = [1,2,3,3,4,5,6,7,7,8,9,10]\n",
    "dupes = set([i for i in initial_list if initial_list.count(i) > 1])\n",
    "new_list = [i for i in initial_list if i not in dupes]\n",
    "\n",
    "print(new_list)"
   ]
  },
  {
   "cell_type": "markdown",
   "metadata": {},
   "source": [
    "2. Escribe un programa en Python para unir dos listas y ordenarlas en orden ascendente."
   ]
  },
  {
   "cell_type": "code",
   "execution_count": null,
   "metadata": {},
   "outputs": [
    {
     "name": "stdout",
     "output_type": "stream",
     "text": [
      "[0, 1, 1, 2, 3, 3, 3, 5, 6, 7, 7, 9]\n"
     ]
    }
   ],
   "source": [
    "list1 = [1,6,3,7,9]\n",
    "list2 = [2,7,1,0,3,5,3]\n",
    "\n",
    "list3 = list1+list2\n",
    "list3.sort()\n",
    "\n",
    "print(list3)"
   ]
  },
  {
   "cell_type": "markdown",
   "metadata": {},
   "source": [
    "\n",
    "3. Escribe un script que encuentre el segundo número más grande de una lista."
   ]
  },
  {
   "cell_type": "code",
   "execution_count": null,
   "metadata": {},
   "outputs": [
    {
     "name": "stdout",
     "output_type": "stream",
     "text": [
      "9\n"
     ]
    }
   ],
   "source": [
    "a = [1,2,3,4,5,6,7,8,9,10]\n",
    "max1 = max2 = float('-inf')\n",
    "\n",
    "for i in a:\n",
    "    if i > max1:\n",
    "        max2 = max1\n",
    "        max1 = i\n",
    "\n",
    "print(max2)"
   ]
  },
  {
   "cell_type": "markdown",
   "metadata": {},
   "source": [
    "4. Crea un script que cuente el número de elementos más grandes que un determinado número\n",
    "dado por el usuario (supón una lista numérica)."
   ]
  },
  {
   "cell_type": "code",
   "execution_count": null,
   "metadata": {},
   "outputs": [
    {
     "name": "stdout",
     "output_type": "stream",
     "text": [
      "45\n"
     ]
    }
   ],
   "source": [
    "max1 = int(input(\"Min: \"))\n",
    "li1 = [i+1 for i in range(50)]\n",
    "li2 = [i for i in li1 if i > max1]\n",
    "\n",
    "print(len(li2))"
   ]
  },
  {
   "cell_type": "markdown",
   "metadata": {},
   "source": [
    "5. Crea un script dado un número introducido por el usuario o determinado al inicio del\n",
    "programa, realice la suma de aquellos números que sean divisibles por este."
   ]
  },
  {
   "cell_type": "code",
   "execution_count": null,
   "metadata": {},
   "outputs": [
    {
     "name": "stdout",
     "output_type": "stream",
     "text": [
      "93\n"
     ]
    }
   ],
   "source": [
    "div = int(input(\"Number: \"))\n",
    "print(sum([i for i in range(1, div+1) if div % i == 0]))"
   ]
  },
  {
   "cell_type": "markdown",
   "metadata": {},
   "source": [
    "6. Escribe un script que pida un número al usuario y dada una lista encuentre el número más alto\n",
    "que es inferior al número introducido o determinado al inicio del programa."
   ]
  },
  {
   "cell_type": "code",
   "execution_count": 29,
   "metadata": {},
   "outputs": [
    {
     "name": "stdout",
     "output_type": "stream",
     "text": [
      "102\n"
     ]
    }
   ],
   "source": [
    "num = int(input(\"Number: \"))\n",
    "li = [1,3,70,5,102,4,10,31,15,90]\n",
    "store = 0\n",
    "\n",
    "for i in li:\n",
    "    if store < i < num:\n",
    "        store = i\n",
    "\n",
    "print(store)\n"
   ]
  },
  {
   "cell_type": "markdown",
   "metadata": {},
   "source": [
    "7. Crea un script que extraiga los elementos comunes entre dos listas."
   ]
  },
  {
   "cell_type": "code",
   "execution_count": 2,
   "metadata": {},
   "outputs": [
    {
     "name": "stdout",
     "output_type": "stream",
     "text": [
      "[1, 2, 5, 9]\n"
     ]
    }
   ],
   "source": [
    "li1 = [1,2,3,4,5,9]\n",
    "li2 = [2,5,9,6,1]\n",
    "print([i for i in li1 if i in li2])\n"
   ]
  },
  {
   "cell_type": "markdown",
   "metadata": {},
   "source": [
    "8. Crea un script que cuente el número de apariciones de un elemento de una lista en dicha lista\n",
    "(P.e. en la lista lista=[23, 65, 23] el número de apariciones de 23 es 2)\n"
   ]
  },
  {
   "cell_type": "code",
   "execution_count": null,
   "metadata": {},
   "outputs": [],
   "source": [
    "# lista.count(elemento) ¬¬"
   ]
  },
  {
   "cell_type": "markdown",
   "metadata": {},
   "source": [
    "9. Escribe un programa que lea una lista de enteros y cree una nueva lista que contenga solo\n",
    "números positivos de la lista original."
   ]
  },
  {
   "cell_type": "code",
   "execution_count": null,
   "metadata": {},
   "outputs": [],
   "source": [
    "# [i for i in lista if i >= 0]"
   ]
  },
  {
   "cell_type": "markdown",
   "metadata": {},
   "source": [
    "10. Crea un script que tome una lista de strings y cree una nueva lista que contenga el tamaño de\n",
    "los strings de la lista original."
   ]
  },
  {
   "cell_type": "code",
   "execution_count": null,
   "metadata": {},
   "outputs": [],
   "source": [
    "# [len(i) for i in lista]"
   ]
  },
  {
   "cell_type": "markdown",
   "metadata": {},
   "source": [
    "11. Crea un programa que dada una lista de strings, devuelva otra lista con los strings en\n",
    "mayúscula."
   ]
  },
  {
   "cell_type": "markdown",
   "metadata": {},
   "source": [
    "Dado una lista de números enteros, escribe un script en Python que devuelva una nueva lista con\n",
    "los números primos de la lista original. Además, el script debe devolver el número total de\n",
    "números primos encontrados y la suma de los números primos encontrados"
   ]
  },
  {
   "cell_type": "code",
   "execution_count": 5,
   "metadata": {},
   "outputs": [
    {
     "ename": "AttributeError",
     "evalue": "'function' object has no attribute 'append'",
     "output_type": "error",
     "traceback": [
      "\u001b[0;31m---------------------------------------------------------------------------\u001b[0m",
      "\u001b[0;31mAttributeError\u001b[0m                            Traceback (most recent call last)",
      "Cell \u001b[0;32mIn[5], line 9\u001b[0m\n\u001b[1;32m      3\u001b[0m numbers \u001b[38;5;241m=\u001b[39m [\n\u001b[1;32m      4\u001b[0m     \u001b[38;5;241m4\u001b[39m, \u001b[38;5;241m6\u001b[39m, \u001b[38;5;241m7\u001b[39m, \u001b[38;5;241m8\u001b[39m, \u001b[38;5;241m9\u001b[39m, \u001b[38;5;241m11\u001b[39m, \u001b[38;5;241m12\u001b[39m, \u001b[38;5;241m14\u001b[39m, \u001b[38;5;241m17\u001b[39m, \u001b[38;5;241m18\u001b[39m,\n\u001b[1;32m      5\u001b[0m     \u001b[38;5;241m20\u001b[39m, \u001b[38;5;241m19\u001b[39m, \u001b[38;5;241m21\u001b[39m, \u001b[38;5;241m22\u001b[39m, \u001b[38;5;241m23\u001b[39m, \u001b[38;5;241m24\u001b[39m, \u001b[38;5;241m25\u001b[39m, \u001b[38;5;241m29\u001b[39m, \u001b[38;5;241m26\u001b[39m, \u001b[38;5;241m27\u001b[39m,\n\u001b[1;32m      6\u001b[0m     \u001b[38;5;241m31\u001b[39m, \u001b[38;5;241m28\u001b[39m, \u001b[38;5;241m30\u001b[39m, \u001b[38;5;241m37\u001b[39m, \u001b[38;5;241m32\u001b[39m, \u001b[38;5;241m33\u001b[39m, \u001b[38;5;241m41\u001b[39m, \u001b[38;5;241m34\u001b[39m, \u001b[38;5;241m35\u001b[39m, \u001b[38;5;241m43\u001b[39m\n\u001b[1;32m      7\u001b[0m ]\n\u001b[1;32m      8\u001b[0m limit \u001b[38;5;241m=\u001b[39m \u001b[38;5;28mmax\u001b[39m(numbers)\n\u001b[0;32m----> 9\u001b[0m \u001b[38;5;28mprint\u001b[39m(\u001b[43mprimes\u001b[49m\u001b[43m(\u001b[49m\u001b[43mlimit\u001b[49m\u001b[43m)\u001b[49m)\n",
      "File \u001b[0;32m~/Dev/Conquer/Clase 3/primes.py:8\u001b[0m, in \u001b[0;36mprimes\u001b[0;34m(limit)\u001b[0m\n\u001b[1;32m      6\u001b[0m \u001b[38;5;28;01mfor\u001b[39;00m n \u001b[38;5;129;01min\u001b[39;00m \u001b[38;5;28mrange\u001b[39m(\u001b[38;5;241m1\u001b[39m, math\u001b[38;5;241m.\u001b[39mceil((limit \u001b[38;5;241m+\u001b[39m \u001b[38;5;241m1\u001b[39m)\u001b[38;5;241m/\u001b[39m\u001b[38;5;241m6\u001b[39m)): \u001b[38;5;66;03m# Use the formula\u001b[39;00m\n\u001b[1;32m      7\u001b[0m     minus_one, plus_one \u001b[38;5;241m=\u001b[39m \u001b[38;5;241m6\u001b[39m\u001b[38;5;241m*\u001b[39mn\u001b[38;5;241m-\u001b[39m\u001b[38;5;241m1\u001b[39m, \u001b[38;5;241m6\u001b[39m\u001b[38;5;241m*\u001b[39mn\u001b[38;5;241m+\u001b[39m\u001b[38;5;241m1\u001b[39m\n\u001b[0;32m----> 8\u001b[0m     \u001b[43mprimes\u001b[49m\u001b[38;5;241;43m.\u001b[39;49m\u001b[43mappend\u001b[49m(minus_one)\n\u001b[1;32m      9\u001b[0m     \u001b[38;5;28;01mif\u001b[39;00m \u001b[38;5;129;01mnot\u001b[39;00m plus_one \u001b[38;5;241m>\u001b[39m limit:\n\u001b[1;32m     10\u001b[0m         primes\u001b[38;5;241m.\u001b[39mappend(plus_one)\n",
      "\u001b[0;31mAttributeError\u001b[0m: 'function' object has no attribute 'append'"
     ]
    }
   ],
   "source": [
    "from primes import primes\n",
    "\n",
    "numbers = [\n",
    "    4, 6, 7, 8, 9, 11, 12, 14, 17, 18,\n",
    "    20, 19, 21, 22, 23, 24, 25, 29, 26, 27,\n",
    "    31, 28, 30, 37, 32, 33, 41, 34, 35, 43\n",
    "]\n",
    "limit = max(numbers)\n",
    "print(primes(limit))"
   ]
  }
 ],
 "metadata": {
  "kernelspec": {
   "display_name": ".venv",
   "language": "python",
   "name": "python3"
  },
  "language_info": {
   "codemirror_mode": {
    "name": "ipython",
    "version": 3
   },
   "file_extension": ".py",
   "mimetype": "text/x-python",
   "name": "python",
   "nbconvert_exporter": "python",
   "pygments_lexer": "ipython3",
   "version": "3.13.2"
  }
 },
 "nbformat": 4,
 "nbformat_minor": 2
}
